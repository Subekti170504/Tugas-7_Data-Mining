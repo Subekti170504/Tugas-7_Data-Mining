{
  "nbformat": 4,
  "nbformat_minor": 0,
  "metadata": {
    "colab": {
      "provenance": []
    },
    "kernelspec": {
      "name": "python3",
      "display_name": "Python 3"
    },
    "language_info": {
      "name": "python"
    }
  },
  "cells": [
    {
      "cell_type": "markdown",
      "source": [
        "Import Library"
      ],
      "metadata": {
        "id": "SVOrkhUNUNse"
      }
    },
    {
      "cell_type": "code",
      "execution_count": 1,
      "metadata": {
        "id": "kGVpK17GShG3"
      },
      "outputs": [],
      "source": [
        "from sklearn.tree import DecisionTreeClassifier\n",
        "from sklearn import datasets\n",
        "import matplotlib.pyplot as plt"
      ]
    },
    {
      "cell_type": "markdown",
      "source": [
        "Membaca Input"
      ],
      "metadata": {
        "id": "7knKektpUrXG"
      }
    },
    {
      "cell_type": "code",
      "source": [
        "iris = datasets.load_iris()\n",
        "features = iris['data']\n",
        "target = iris['target']"
      ],
      "metadata": {
        "id": "XsHj9n_DUwyA"
      },
      "execution_count": 2,
      "outputs": []
    },
    {
      "cell_type": "markdown",
      "source": [
        "Membuat Objek Model Decision Tree"
      ],
      "metadata": {
        "id": "JHIkWQ7XU7JO"
      }
    },
    {
      "cell_type": "code",
      "source": [
        "decisiontree = DecisionTreeClassifier(random_state=0, max_depth=None,\n",
        "                                      min_samples_split=2, min_samples_leaf=1, min_weight_fraction_leaf=0,\n",
        "                                      max_leaf_nodes=None, min_impurity_decrease=0)"
      ],
      "metadata": {
        "id": "WIGgCNP-VB1D"
      },
      "execution_count": 3,
      "outputs": []
    },
    {
      "cell_type": "markdown",
      "source": [
        "Mentraining Model Decision Tree"
      ],
      "metadata": {
        "id": "H82CilJgVXhp"
      }
    },
    {
      "cell_type": "code",
      "source": [
        "model = decisiontree.fit(features, target)"
      ],
      "metadata": {
        "id": "yxUNQVxoVeuM"
      },
      "execution_count": 4,
      "outputs": []
    },
    {
      "cell_type": "markdown",
      "source": [
        "Membuat Prediksi"
      ],
      "metadata": {
        "id": "tcM4rELfVjyf"
      }
    },
    {
      "cell_type": "code",
      "source": [
        "observation = [[5, 4, 3, 2]]\n",
        "model.predict(observation)\n",
        "model.predict_proba(observation)"
      ],
      "metadata": {
        "colab": {
          "base_uri": "https://localhost:8080/"
        },
        "id": "dsAAE_CyVn98",
        "outputId": "253c615b-d136-4405-c005-dd5a082de1b7"
      },
      "execution_count": 5,
      "outputs": [
        {
          "output_type": "execute_result",
          "data": {
            "text/plain": [
              "array([[0., 1., 0.]])"
            ]
          },
          "metadata": {},
          "execution_count": 5
        }
      ]
    },
    {
      "cell_type": "markdown",
      "source": [
        "Membuat Grafik Visualisasi Decision Tree"
      ],
      "metadata": {
        "id": "uE2kbbdIVuYK"
      }
    },
    {
      "cell_type": "code",
      "source": [
        "import pydotplus\n",
        "from sklearn import tree\n",
        "dot_data = tree.export_graphviz(decisiontree, out_file=None,\n",
        "                                feature_names=iris['feature_names'],\n",
        "                                class_names=iris['target_names'])\n",
        "from IPython.display import Image\n",
        "graph = pydotplus.graph_from_dot_data(dot_data)\n",
        "Image(graph.create_png())\n",
        "graph.write_png(\"iris.png\")"
      ],
      "metadata": {
        "colab": {
          "base_uri": "https://localhost:8080/"
        },
        "id": "22GzopM3Vt4u",
        "outputId": "761f0100-2b17-4ef7-b75b-f74f7d4629ef"
      },
      "execution_count": 6,
      "outputs": [
        {
          "output_type": "execute_result",
          "data": {
            "text/plain": [
              "True"
            ]
          },
          "metadata": {},
          "execution_count": 6
        }
      ]
    },
    {
      "cell_type": "markdown",
      "source": [
        "Import Library Dataset"
      ],
      "metadata": {
        "id": "bUhxv7nJovgS"
      }
    },
    {
      "cell_type": "code",
      "source": [
        "import numpy as np\n",
        "import pandas as pd\n",
        "from sklearn import tree\n",
        "\n",
        "#membaca dataset dari file ke pandas dataFrame\n",
        "irisDataset = pd.read_csv('Dataset Iris.csv', delimiter=';', header=0)\n",
        "\n",
        "#mengubah kelas (kolom \"Species\") dari string ke unique-integer\n",
        "irisDataset[\"Species\"] = pd.factorize(irisDataset.Species)[0]\n",
        "\n",
        "#menghapus kolom id\n",
        "irisDataset = irisDataset.drop(labels=\"Id\", axis=1)\n",
        "\n",
        "#mengubah dataFrame ke array Numpy\n",
        "irisDataset = irisDataset.to_numpy()"
      ],
      "metadata": {
        "id": "4ZHi4kP2p4__"
      },
      "execution_count": 7,
      "outputs": []
    },
    {
      "cell_type": "markdown",
      "source": [
        "Membagi Dataset"
      ],
      "metadata": {
        "id": "wZPLYhk4r7G8"
      }
    },
    {
      "cell_type": "code",
      "source": [
        "#membagi dataset, 40 baris data untuk training dan 20 baris data untuk testing\n",
        "dataTraining = np.concatenate((irisDataset[0:40, :], irisDataset[50:90, :]),\n",
        "                          axis=0)\n",
        "dataTesting = np.concatenate((irisDataset[40:50, :], irisDataset[90:100, :]),\n",
        "                          axis=0)\n",
        "#memecah dataset ke input dan label\n",
        "inputTraining = dataTraining[:, 0:4]\n",
        "inputTesting = dataTesting[:, 0:4]\n",
        "labelTraining = dataTraining[:, 4]\n",
        "labelTesting = dataTesting[:, 4]"
      ],
      "metadata": {
        "id": "DsZDYR6hsZU2"
      },
      "execution_count": 8,
      "outputs": []
    },
    {
      "cell_type": "markdown",
      "source": [
        "Mendifinisikan Model Decision Tree"
      ],
      "metadata": {
        "id": "O5pIhhDis-Vu"
      }
    },
    {
      "cell_type": "code",
      "source": [
        "#mendifinisikan decision tree classifier\n",
        "model = tree.DecisionTreeClassifier()\n",
        "\n",
        "#mentraining model\n",
        "model = model.fit(inputTraining, labelTraining)\n",
        "\n",
        "#memprediksi input data testing\n",
        "hasilPrediksi = model.predict(inputTesting)\n",
        "print(\"Label Sebenarnya : \", labelTesting)\n",
        "print(\"Hasil Prediksi : \", hasilPrediksi)\n",
        "\n",
        "#menghitung akurasi\n",
        "prediksiBenar = (hasilPrediksi == labelTesting).sum()\n",
        "prediksiSalah = (hasilPrediksi != labelTesting).sum()\n",
        "print(\"Prediksi Benar :\", prediksiBenar, \"data\")\n",
        "print(\"Prediksi Salah :\", prediksiSalah, \"data\")\n",
        "print(\"akurasi: \"), prediksiBenar/(prediksiBenar+prediksiSalah) * 100, \"%\""
      ],
      "metadata": {
        "colab": {
          "base_uri": "https://localhost:8080/"
        },
        "id": "gDIDbuEdtKQC",
        "outputId": "78324f57-911e-4aa7-ffcb-cf567b50afb2"
      },
      "execution_count": 9,
      "outputs": [
        {
          "output_type": "stream",
          "name": "stdout",
          "text": [
            "Label Sebenarnya :  [0. 0. 0. 0. 0. 0. 0. 0. 0. 0. 1. 1. 1. 1. 1. 1. 1. 1. 1. 1.]\n",
            "Hasil Prediksi :  [0. 0. 0. 0. 0. 0. 0. 0. 0. 0. 1. 1. 1. 1. 1. 1. 1. 1. 1. 1.]\n",
            "Prediksi Benar : 20 data\n",
            "Prediksi Salah : 0 data\n",
            "akurasi: \n"
          ]
        },
        {
          "output_type": "execute_result",
          "data": {
            "text/plain": [
              "(None, 100.0, '%')"
            ]
          },
          "metadata": {},
          "execution_count": 9
        }
      ]
    }
  ]
}