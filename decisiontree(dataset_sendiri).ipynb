{
  "nbformat": 4,
  "nbformat_minor": 0,
  "metadata": {
    "colab": {
      "provenance": []
    },
    "kernelspec": {
      "name": "python3",
      "display_name": "Python 3"
    },
    "language_info": {
      "name": "python"
    }
  },
  "cells": [
    {
      "cell_type": "markdown",
      "source": [
        "Import Library"
      ],
      "metadata": {
        "id": "wdvF8T1ivUE-"
      }
    },
    {
      "cell_type": "code",
      "execution_count": null,
      "metadata": {
        "id": "dwrQepQQux9z"
      },
      "outputs": [],
      "source": [
        "from sklearn.tree import DecisionTreeClassifier\n",
        "from sklearn import datasets\n",
        "import matplotlib.pyplot as plt"
      ]
    },
    {
      "cell_type": "markdown",
      "source": [
        "Membaca Input"
      ],
      "metadata": {
        "id": "_SKp4Ef6vb7u"
      }
    },
    {
      "cell_type": "code",
      "source": [
        "iris = datasets.load_iris()\n",
        "features = iris['data']\n",
        "target = iris['target']"
      ],
      "metadata": {
        "id": "L_b_UhLove7k"
      },
      "execution_count": null,
      "outputs": []
    },
    {
      "cell_type": "markdown",
      "source": [
        "Membuat Objek Model Decision Tree"
      ],
      "metadata": {
        "id": "wJaBJq41wZQN"
      }
    },
    {
      "cell_type": "code",
      "source": [
        "decisiontree = DecisionTreeClassifier(random_state=0, max_depth=None,\n",
        "                                      min_samples_split=2, min_samples_leaf=1, min_weight_fraction_leaf=0,\n",
        "                                      max_leaf_nodes=None, min_impurity_decrease=0)"
      ],
      "metadata": {
        "id": "N1M8d1JTwcWV"
      },
      "execution_count": null,
      "outputs": []
    },
    {
      "cell_type": "markdown",
      "source": [
        "Mentraining Model Decision Tree"
      ],
      "metadata": {
        "id": "fpb6-uMQwfG1"
      }
    },
    {
      "cell_type": "code",
      "source": [
        "model = decisiontree.fit(features, target)"
      ],
      "metadata": {
        "id": "1I0z4Amnwwk2"
      },
      "execution_count": null,
      "outputs": []
    },
    {
      "cell_type": "markdown",
      "source": [
        "Membuat Prediksi"
      ],
      "metadata": {
        "id": "wvF0h4-vw5Rq"
      }
    },
    {
      "cell_type": "code",
      "source": [
        "observation = [[5, 4, 3, 2]]\n",
        "model.predict(observation)\n",
        "model.predict_proba(observation)"
      ],
      "metadata": {
        "colab": {
          "base_uri": "https://localhost:8080/"
        },
        "id": "aAbcv3Arw8Yj",
        "outputId": "8a61cf51-0226-452d-c533-7d5e827dc800"
      },
      "execution_count": null,
      "outputs": [
        {
          "output_type": "execute_result",
          "data": {
            "text/plain": [
              "array([[0., 1., 0.]])"
            ]
          },
          "metadata": {},
          "execution_count": 6
        }
      ]
    },
    {
      "cell_type": "markdown",
      "source": [
        "Membuat Grafik Visualisasi Decision Tree"
      ],
      "metadata": {
        "id": "9XaPLVF9xB9N"
      }
    },
    {
      "cell_type": "code",
      "source": [
        "import pydotplus\n",
        "from sklearn import tree\n",
        "dot_data = tree.export_graphviz(decisiontree, out_file=None,\n",
        "                                feature_names=iris['feature_names'],\n",
        "                                class_names=iris['target_names'])\n",
        "from IPython.display import Image\n",
        "graph = pydotplus.graph_from_dot_data(dot_data)\n",
        "Image(graph.create_png())\n",
        "graph.write_png(\"iris.png\")"
      ],
      "metadata": {
        "colab": {
          "base_uri": "https://localhost:8080/"
        },
        "id": "qvH8zisLxE18",
        "outputId": "27dc6198-cc5d-4f51-c04d-9ad83feccfd0"
      },
      "execution_count": null,
      "outputs": [
        {
          "output_type": "execute_result",
          "data": {
            "text/plain": [
              "True"
            ]
          },
          "metadata": {},
          "execution_count": 7
        }
      ]
    },
    {
      "cell_type": "markdown",
      "source": [
        "Import Library Dataset"
      ],
      "metadata": {
        "id": "wAml2Py8xLC0"
      }
    },
    {
      "cell_type": "code",
      "source": [
        "# ipython-input-21-5bb8a59095b3\n",
        "!pip install scikit-learn pandas\n",
        "import numpy as np\n",
        "import pandas as pd\n",
        "from sklearn import tree\n",
        "from sklearn.preprocessing import LabelEncoder\n",
        "\n",
        "#membaca dataset dari file ke pandas dataFrame\n",
        "irisDataset = pd.read_csv('customer.csv', delimiter=';', header=0)\n",
        "\n",
        "# Check if 'Churn' column exists, if not, print available columns\n",
        "if 'Churn' not in irisDataset.columns:\n",
        "    print(f\"Column 'Churn' not found. Available columns: {irisDataset.columns}\")\n",
        "    # If the column has a different name, replace 'ActualColumnName' with the correct name\n",
        "    # irisDataset[\"Churn\"] = irisDataset[\"ActualColumnName\"]\n",
        "else:\n",
        "    #mengubah kelas (kolom \"Species\") dari string ke unique-integer\n",
        "    irisDataset[\"Churn\"] = pd.factorize(irisDataset.Churn)[0]\n",
        "\n",
        "# Print the available columns to verify the correct column name\n",
        "print(irisDataset.columns)\n",
        "\n",
        "# Check if 'CustomerID' column exists before dropping\n",
        "if 'CustomerID' in irisDataset.columns:\n",
        "    irisDataset = irisDataset.drop(labels=\"CustomerID\", axis=1)\n",
        "else:\n",
        "    print(\"Column 'CustomerID' not found in the DataFrame. Skipping drop operation.\")\n",
        "\n",
        "# Create a LabelEncoder object\n",
        "encoder = LabelEncoder()\n",
        "\n",
        "# Iterate through columns and encode string values to numerical\n",
        "# Exclude the 'Churn' column from encoding if it's the target variable\n",
        "for column in irisDataset.columns:\n",
        "    if irisDataset[column].dtype == 'object' and column != 'Churn':  # Check if the column has string values and is not 'Churn'\n",
        "        irisDataset[column] = encoder.fit_transform(irisDataset[column])\n",
        "\n",
        "#mengubah dataFrame ke array Numpy\n",
        "irisDataset = irisDataset.to_numpy()"
      ],
      "metadata": {
        "colab": {
          "base_uri": "https://localhost:8080/"
        },
        "id": "vmFixCHDxOLA",
        "outputId": "29d84cbb-9194-4037-8608-ab623089ee40"
      },
      "execution_count": 34,
      "outputs": [
        {
          "output_type": "stream",
          "name": "stdout",
          "text": [
            "Requirement already satisfied: scikit-learn in /usr/local/lib/python3.10/dist-packages (1.5.2)\n",
            "Requirement already satisfied: pandas in /usr/local/lib/python3.10/dist-packages (2.2.2)\n",
            "Requirement already satisfied: numpy>=1.19.5 in /usr/local/lib/python3.10/dist-packages (from scikit-learn) (1.26.4)\n",
            "Requirement already satisfied: scipy>=1.6.0 in /usr/local/lib/python3.10/dist-packages (from scikit-learn) (1.13.1)\n",
            "Requirement already satisfied: joblib>=1.2.0 in /usr/local/lib/python3.10/dist-packages (from scikit-learn) (1.4.2)\n",
            "Requirement already satisfied: threadpoolctl>=3.1.0 in /usr/local/lib/python3.10/dist-packages (from scikit-learn) (3.5.0)\n",
            "Requirement already satisfied: python-dateutil>=2.8.2 in /usr/local/lib/python3.10/dist-packages (from pandas) (2.8.2)\n",
            "Requirement already satisfied: pytz>=2020.1 in /usr/local/lib/python3.10/dist-packages (from pandas) (2024.2)\n",
            "Requirement already satisfied: tzdata>=2022.7 in /usr/local/lib/python3.10/dist-packages (from pandas) (2024.2)\n",
            "Requirement already satisfied: six>=1.5 in /usr/local/lib/python3.10/dist-packages (from python-dateutil>=2.8.2->pandas) (1.16.0)\n",
            "Column 'Churn' not found. Available columns: Index(['CustomerID,Usia,JenisKelamin,Tenure,BiayaBulanan,TotalBiaya,LayananInternet,JenisKontrak,MetodePembayaran,Churn'], dtype='object')\n",
            "Index(['CustomerID,Usia,JenisKelamin,Tenure,BiayaBulanan,TotalBiaya,LayananInternet,JenisKontrak,MetodePembayaran,Churn'], dtype='object')\n",
            "Column 'CustomerID' not found in the DataFrame. Skipping drop operation.\n"
          ]
        }
      ]
    },
    {
      "cell_type": "markdown",
      "source": [
        "Membagi Dataset"
      ],
      "metadata": {
        "id": "U_g-dSCkzLF6"
      }
    },
    {
      "cell_type": "code",
      "source": [
        "#membagi dataset, 40 baris data untuk training dan 20 baris data untuk testing\n",
        "dataTraining = np.concatenate((irisDataset[0:40, :], irisDataset[50:90, :]),\n",
        "                          axis=0)\n",
        "dataTesting = np.concatenate((irisDataset[40:50, :], irisDataset[90:100, :]),\n",
        "                          axis=0)\n",
        "\n",
        "# Assuming your target variable 'Churn' is the last column in irisDataset\n",
        "# Adjust the index if it's different\n",
        "num_columns = irisDataset.shape[1]  # Get the number of columns in irisDataset\n",
        "target_column_index = num_columns - 1  # Assuming 'Churn' is the last column\n",
        "\n",
        "#memecah dataset ke input dan label\n",
        "# Ensure you're selecting the correct columns for features and target\n",
        "# The error was here: you were selecting 0 features because target_column_index was the last column\n",
        "# Instead, select all columns EXCEPT the target column\n",
        "\n",
        "# Use slicing to select all columns except the last one for inputTraining and inputTesting\n",
        "inputTraining = dataTraining[:, :target_column_index]\n",
        "inputTesting = dataTesting[:, :target_column_index]\n",
        "\n",
        "# Select only the last column for labelTraining and labelTesting\n",
        "labelTraining = dataTraining[:, target_column_index]\n",
        "labelTesting = dataTesting[:, target_column_index]"
      ],
      "metadata": {
        "id": "H9yC5D1UzLoA"
      },
      "execution_count": 40,
      "outputs": []
    },
    {
      "cell_type": "markdown",
      "source": [
        "Mendifinisikan Model Decision Tree"
      ],
      "metadata": {
        "id": "fofLkj3EzdRM"
      }
    },
    {
      "cell_type": "code",
      "source": [
        "# Use slicing to select all columns except the target column for inputTraining and inputTesting\n",
        "inputTraining = dataTraining[:, [i for i in range(dataTraining.shape[1]) if i != target_column_index]]\n",
        "inputTesting = dataTesting[:, [i for i in range(dataTesting.shape[1]) if i != target_column_index]]"
      ],
      "metadata": {
        "id": "JkX2LhvBzd-w"
      },
      "execution_count": 42,
      "outputs": []
    }
  ]
}